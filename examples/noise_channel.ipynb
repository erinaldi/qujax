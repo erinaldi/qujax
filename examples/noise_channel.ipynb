{
 "cells": [
  {
   "cell_type": "code",
   "execution_count": 1,
   "id": "35c3cf82",
   "metadata": {},
   "outputs": [],
   "source": [
    "from jax import numpy as jnp, random, vmap, jit, value_and_grad\n",
    "import qujax\n",
    "import matplotlib.pyplot as plt"
   ]
  },
  {
   "cell_type": "markdown",
   "id": "3d3adcdd",
   "metadata": {},
   "source": [
    "# Depolarising noise channel\n",
    "\n",
    "Suppose we wish to apply a $k$-qubit unitary matrix (gate) $U$ but our system is affected by a depolarising noise channel. In density matrix notation the noiseless application of the unitary $\\rho \\to U\\rho U^\\dagger$ is replaced with\n",
    "\n",
    "\\begin{equation}\n",
    "\\mathcal{D}_{p,U}[\\rho] = p_0 U\\rho U^\\dagger + \\sum_{i=1}^{4^k} p_i P_i \\rho P_i^\\dagger, \\label{dnc}\\tag{1}\n",
    "\\end{equation}\n",
    "where $P_i \\in \\{I, X, Y, Z\\}^{\\otimes k}$ and $\\sum_{i=0}^{4^k} p_i = 1$."
   ]
  },
  {
   "cell_type": "markdown",
   "id": "f6a857ce",
   "metadata": {},
   "source": [
    "Here we will assume single qubit gates are noiseless and two qubit gates are affected by a depolarising noise channel with shared but unknown probability vector $p$ which we will look to recover."
   ]
  },
  {
   "cell_type": "markdown",
   "id": "a3e57fe7",
   "metadata": {},
   "source": [
    "First let's construct the set of two qubit Pauli combinations $\\{I, X, Y, Z\\}^{\\otimes 2}$"
   ]
  },
  {
   "cell_type": "code",
   "execution_count": 2,
   "id": "737b6193",
   "metadata": {},
   "outputs": [
    {
     "data": {
      "text/plain": [
       "{'I': Array([[1., 0.],\n",
       "        [0., 1.]], dtype=float32),\n",
       " 'X': Array([[0., 1.],\n",
       "        [1., 0.]], dtype=float32),\n",
       " 'Y': Array([[ 0.+0.j, -0.-1.j],\n",
       "        [ 0.+1.j,  0.+0.j]], dtype=complex64),\n",
       " 'Z': Array([[ 1.,  0.],\n",
       "        [ 0., -1.]], dtype=float32)}"
      ]
     },
     "execution_count": 2,
     "metadata": {},
     "output_type": "execute_result"
    }
   ],
   "source": [
    "paulis = {'I': qujax.gates.I, 'X': qujax.gates.X, 'Y': qujax.gates.Y, 'Z': qujax.gates.Z}\n",
    "paulis"
   ]
  },
  {
   "cell_type": "code",
   "execution_count": 3,
   "id": "fc510cc7",
   "metadata": {},
   "outputs": [
    {
     "name": "stdout",
     "output_type": "stream",
     "text": [
      "['II', 'IX', 'IY', 'IZ', 'XI', 'XX', 'XY', 'XZ', 'YI', 'YX', 'YY', 'YZ', 'ZI', 'ZX', 'ZY', 'ZZ']\n"
     ]
    }
   ],
   "source": [
    "two_paulis_strs = [a+b for a in paulis.keys() for b in paulis.keys()]\n",
    "print(two_paulis_strs)"
   ]
  },
  {
   "cell_type": "code",
   "execution_count": 4,
   "id": "44354b96",
   "metadata": {},
   "outputs": [],
   "source": [
    "num_pauli_combos = len(two_paulis_strs)"
   ]
  },
  {
   "cell_type": "code",
   "execution_count": 5,
   "id": "f0674df9",
   "metadata": {},
   "outputs": [
    {
     "data": {
      "text/plain": [
       "(16, 4, 4)"
      ]
     },
     "execution_count": 5,
     "metadata": {},
     "output_type": "execute_result"
    }
   ],
   "source": [
    "two_paulis_matrices = jnp.array([jnp.kron(paulis[a], paulis[b]) for a, b in two_paulis_strs])\n",
    "two_paulis_matrices.shape"
   ]
  },
  {
   "cell_type": "markdown",
   "id": "106f8ebc",
   "metadata": {},
   "source": [
    "Remember we'll need to reshape them into tensor form for `qujax`"
   ]
  },
  {
   "cell_type": "code",
   "execution_count": 6,
   "id": "cf8b9822",
   "metadata": {},
   "outputs": [
    {
     "data": {
      "text/plain": [
       "(16, 2, 2, 2, 2)"
      ]
     },
     "execution_count": 6,
     "metadata": {},
     "output_type": "execute_result"
    }
   ],
   "source": [
    "two_paulis_tensors = jnp.array([mat.reshape((2,) * 4) for mat in two_paulis_matrices])\n",
    "two_paulis_tensors.shape"
   ]
  },
  {
   "cell_type": "markdown",
   "id": "746db6d5",
   "metadata": {},
   "source": [
    "Now let's build a function that converts a two qubit unitary into one suffering from depolarising noise"
   ]
  },
  {
   "cell_type": "code",
   "execution_count": 7,
   "id": "0defcfb5",
   "metadata": {},
   "outputs": [],
   "source": [
    "def depolarise_arr(arr):\n",
    "    return lambda p: jnp.sqrt(p) * arr"
   ]
  },
  {
   "cell_type": "code",
   "execution_count": 8,
   "id": "62a6858b",
   "metadata": {},
   "outputs": [],
   "source": [
    "def depolarise(unitary_tensor):\n",
    "    unitary_and_two_paulis_tensors = [unitary_tensor] + list(two_paulis_tensors)\n",
    "    return [depolarise_arr(arr) for arr in unitary_and_two_paulis_tensors]"
   ]
  },
  {
   "cell_type": "markdown",
   "id": "be1d5f6d",
   "metadata": {},
   "source": [
    "This generates a list of functions. Each function takes as input a single probability $p_i$ and outputs one of the $4^2 + 1 = 17$ Kraus operators in ([1](#mjx-eqn-dnc)) scaled by $\\sqrt{p_i}$.\n",
    "\n",
    "This function can then be accepted by `qujax`'s densitytensor simulator."
   ]
  },
  {
   "cell_type": "markdown",
   "id": "f8ba8124",
   "metadata": {},
   "source": [
    "# Circuit!\n",
    "\n",
    "Now let's define a circuit for our experiments. The circuit will then be used to generate noisy measurements based on some true underlying probability vector $p$ which we will look to recover."
   ]
  },
  {
   "cell_type": "code",
   "execution_count": 9,
   "id": "f0eae6b5",
   "metadata": {},
   "outputs": [],
   "source": [
    "noiseless_gate_seq = ['H', 'CX', 'CX', 'CX']\n",
    "noiseless_qubit_seq = [[0], [0, 1], [1, 2], [2, 3]]\n",
    "noiseless_param_ind_seq = [None] * len(noiseless_qubit_seq)"
   ]
  },
  {
   "cell_type": "code",
   "execution_count": 10,
   "id": "9ceac728",
   "metadata": {},
   "outputs": [
    {
     "name": "stdout",
     "output_type": "stream",
     "text": [
      "q0: -----H-------◯-------------------\n",
      "                 |                   \n",
      "q1: -------------CX------◯-----------\n",
      "                         |           \n",
      "q2: ---------------------CX------◯---\n",
      "                                 |   \n",
      "q3: -----------------------------CX--\n"
     ]
    }
   ],
   "source": [
    "qujax.print_circuit(noiseless_gate_seq, noiseless_qubit_seq, noiseless_param_ind_seq);"
   ]
  },
  {
   "cell_type": "markdown",
   "id": "2b23d0bb",
   "metadata": {},
   "source": [
    "Now let's apply the depolarising noise channel to our two qubit gates"
   ]
  },
  {
   "cell_type": "code",
   "execution_count": 11,
   "id": "9914719b",
   "metadata": {},
   "outputs": [],
   "source": [
    "noisy_gate_seq = [depolarise(getattr(qujax.gates, noiseless_gate_seq[i])) if len(noiseless_qubit_seq[i]) == 2\n",
    "                  else noiseless_gate_seq[i]\n",
    "                  for i in range(len(noiseless_gate_seq))]"
   ]
  },
  {
   "cell_type": "code",
   "execution_count": 12,
   "id": "6b6544e3",
   "metadata": {},
   "outputs": [],
   "source": [
    "noisy_qubit_seq = noiseless_qubit_seq.copy()"
   ]
  },
  {
   "cell_type": "code",
   "execution_count": 13,
   "id": "0a30b4d1",
   "metadata": {},
   "outputs": [],
   "source": [
    "p_inds = [[i] for i in range(len(two_paulis_tensors) + 1)]"
   ]
  },
  {
   "cell_type": "code",
   "execution_count": 14,
   "id": "750a9589",
   "metadata": {},
   "outputs": [],
   "source": [
    "noisy_param_ind_seq = [p_inds if len(noiseless_qubit_seq[i]) == 2\n",
    "                       else None\n",
    "                       for i in range(len(noiseless_gate_seq))]"
   ]
  },
  {
   "cell_type": "code",
   "execution_count": 15,
   "id": "e3a4809b",
   "metadata": {},
   "outputs": [
    {
     "name": "stdout",
     "output_type": "stream",
     "text": [
      "q0: -----H-------◯-------------------\n",
      "                 |                   \n",
      "q1: -----------Kr[.]-----◯-----------\n",
      "                         |           \n",
      "q2: -------------------Kr[.]-----◯---\n",
      "                                 |   \n",
      "q3: ---------------------------Kr[.]-\n"
     ]
    }
   ],
   "source": [
    "qujax.print_circuit(noisy_gate_seq, noisy_qubit_seq, noisy_param_ind_seq);"
   ]
  },
  {
   "cell_type": "markdown",
   "id": "80f3272d",
   "metadata": {},
   "source": [
    "That looks right, now the CX gates have been replaced with Kraus operators parameterised by the $p$ vector.\n",
    "\n",
    "`qujax`'s densitytensor simulator can now convert the circuit representation and an inputted $p$ vector into a densitytensor - from which we can extract measurement probabilities."
   ]
  },
  {
   "cell_type": "code",
   "execution_count": 16,
   "id": "69865590",
   "metadata": {},
   "outputs": [],
   "source": [
    "pvec_to_densitytensor = qujax.get_params_to_densitytensor_func(noisy_gate_seq, noisy_qubit_seq, noisy_param_ind_seq)"
   ]
  },
  {
   "cell_type": "code",
   "execution_count": 17,
   "id": "9c061f0c",
   "metadata": {},
   "outputs": [],
   "source": [
    "def pvec_to_measure_probs(pvec):\n",
    "    dt = pvec_to_densitytensor(pvec)\n",
    "    nqubits = dt.ndim // 2\n",
    "    dm = dt.reshape(2 ** nqubits, 2 ** nqubits)\n",
    "    return jnp.diag(dm).real"
   ]
  },
  {
   "cell_type": "markdown",
   "id": "6308177c",
   "metadata": {},
   "source": [
    "# Simulation\n",
    "\n",
    "Now let's fix some true underlying values of the probability vector $p$ for the noisy circuit which we will look to recover statistically. We'll do this by simply sampling uniformly on the simplex."
   ]
  },
  {
   "cell_type": "code",
   "execution_count": 18,
   "id": "ddf3a678",
   "metadata": {},
   "outputs": [],
   "source": [
    "kraus_strs = ['U'] + two_paulis_strs"
   ]
  },
  {
   "cell_type": "code",
   "execution_count": 19,
   "id": "cd098b3e",
   "metadata": {},
   "outputs": [
    {
     "data": {
      "image/png": "[encoded data removed]",
      "text/plain": [
       "<Figure size 640x480 with 1 Axes>"
      ]
     },
     "metadata": {},
     "output_type": "display_data"
    }
   ],
   "source": [
    "noise_pvec = random.dirichlet(random.PRNGKey(0), jnp.ones(num_pauli_combos + 1))\n",
    "\n",
    "plt.bar(kraus_strs, noise_pvec, color='purple')\n",
    "plt.ylabel('p');"
   ]
  },
  {
   "cell_type": "markdown",
   "id": "d4aace96",
   "metadata": {},
   "source": [
    "Now let's sample some measurements from the true $p$"
   ]
  },
  {
   "cell_type": "code",
   "execution_count": 20,
   "id": "e70686ca",
   "metadata": {},
   "outputs": [],
   "source": [
    "noiseless_pvec = jnp.zeros(num_pauli_combos+1).at[0].set(1)"
   ]
  },
  {
   "cell_type": "code",
   "execution_count": 21,
   "id": "b0c50ea4",
   "metadata": {},
   "outputs": [
    {
     "data": {
      "image/png": "[encoded data removed]",
      "text/plain": [
       "<Figure size 640x480 with 1 Axes>"
      ]
     },
     "metadata": {},
     "output_type": "display_data"
    }
   ],
   "source": [
    "n_measurements = 10_000\n",
    "\n",
    "noiseless_measure_probs = pvec_to_measure_probs(noiseless_pvec)\n",
    "noisy_measure_probs = pvec_to_measure_probs(noise_pvec)\n",
    "measurements = random.choice(random.PRNGKey(1), len(noiseless_measure_probs), shape=(n_measurements,), p=noisy_measure_probs)\n",
    "\n",
    "_x = jnp.arange(noiseless_measure_probs.size)\n",
    "bar_width = 0.2\n",
    "plt.bar(_x - 0.2, noiseless_measure_probs, bar_width, label='Noiseless', color='grey')\n",
    "plt.bar(_x, noisy_measure_probs, bar_width, label='Noisy', color='green')\n",
    "plt.bar(_x + 0.2, jnp.bincount(measurements) / n_measurements, bar_width, label='Sampled', color='orange')\n",
    "plt.xticks(_x, [f\"{a:04b}\" for a in _x], rotation=90)\n",
    "plt.legend();"
   ]
  },
  {
   "cell_type": "markdown",
   "id": "595acc71",
   "metadata": {},
   "source": [
    "# Inference - maximum likelihood\n",
    "\n",
    "Now we'll forget that we know the true underlying $p$ and use statistical inference to learn it.\n",
    "\n",
    "The likelihood function is $P(\\{m_j\\}_{j=1}^N \\mid p) = \\prod_{j=1}^N P(m_j \\mid p)$. Maximising the likelihood function in $p$ will give us the most probable value of $p$ that generated the measurements $\\{m_j\\}_{j=1}^N$.\n",
    "\n",
    "To avoid numerical underflow we can maximise the log-likelihood rather than the likelihood itself."
   ]
  },
  {
   "cell_type": "code",
   "execution_count": 22,
   "id": "668ab4c3",
   "metadata": {},
   "outputs": [],
   "source": [
    "def log_likelihood(p):\n",
    "    measure_probs = pvec_to_measure_probs(p)\n",
    "    return jnp.log(measure_probs)[measurements].sum()"
   ]
  },
  {
   "cell_type": "markdown",
   "id": "aca239fa",
   "metadata": {},
   "source": [
    "In order to ensure the simplex constraints $0 \\leq p_i \\leq 1, \\sum_{i=0}^{4^k} p_i = 1$ we can use the [stick-breaking transformation](https://mc-stan.org/docs/reference-manual/simplex-transform.html)"
   ]
  },
  {
   "cell_type": "code",
   "execution_count": 23,
   "id": "90b69dcb",
   "metadata": {},
   "outputs": [],
   "source": [
    "def logit(u):\n",
    "    return jnp.log(u) - jnp.log(1 - u)\n",
    "\n",
    "def inverse_logit(v):\n",
    "    return 1 / (1 + jnp.exp(-v))\n",
    "\n",
    "def constrain_simplex(y):\n",
    "    k = y.shape[-1] + 1\n",
    "    z = inverse_logit(y - jnp.log(k - jnp.arange(1, k)))\n",
    "    z1m_cumprod = jnp.append(1., (1 - z[:-1]).cumprod())\n",
    "    return z * z1m_cumprod\n",
    "\n",
    "def unconstrain_simplex(x):\n",
    "    k = x.shape[-1] + 1\n",
    "    z = x / (1 - jnp.append(0, x[:-1].cumsum()))\n",
    "    return logit(z) + jnp.log(k - jnp.arange(1, k))"
   ]
  },
  {
   "cell_type": "markdown",
   "id": "6df058b3",
   "metadata": {},
   "source": [
    "Only $4^k$ unconstrained parameters are needed once the simplex constraints are implemented as opposed to the $4^k + 1$ elements of $p$ (since $p$ is normalised)."
   ]
  },
  {
   "cell_type": "code",
   "execution_count": 24,
   "id": "07c3db69",
   "metadata": {},
   "outputs": [],
   "source": [
    "def transformed_log_likelihood(z):\n",
    "    pvec_trunc = constrain_simplex(z)\n",
    "    pvec = jnp.append(pvec_trunc, 1-pvec_trunc.sum())\n",
    "    return log_likelihood(pvec)"
   ]
  },
  {
   "cell_type": "code",
   "execution_count": 25,
   "id": "b113162a",
   "metadata": {},
   "outputs": [],
   "source": [
    "transformed_log_likelihood_and_grad = jit(value_and_grad(transformed_log_likelihood))"
   ]
  },
  {
   "cell_type": "markdown",
   "id": "c211d112",
   "metadata": {},
   "source": [
    "JAX's automatic differentiation allows us to run gradient ascent seemlessly in order to fit a maximum likelihood estimator of $p$ that maximises $\\log P(\\{m_j\\}_{j=1}^N \\mid p)$.\n",
    "\n",
    "We initialise at the zero vector in the unconstrained space which corresponds to a uniform $p$ in the constrained space."
   ]
  },
  {
   "cell_type": "code",
   "execution_count": 26,
   "id": "f2967df4",
   "metadata": {},
   "outputs": [
    {
     "name": "stdout",
     "output_type": "stream",
     "text": [
      "Step: 1 \t Log-likelihood -27689.816\r",
      "Step: 2 \t Log-likelihood -27263.367\r",
      "Step: 3 \t Log-likelihood -27144.273\r",
      "Step: 4 \t Log-likelihood -27093.557\r",
      "Step: 5 \t Log-likelihood -27062.438\r",
      "Step: 6 \t Log-likelihood -27039.596\r",
      "Step: 7 \t Log-likelihood -27021.662\r",
      "Step: 8 \t Log-likelihood -27007.145\r",
      "Step: 9 \t Log-likelihood -26995.168\r",
      "Step: 10 \t Log-likelihood -26985.14\r",
      "Step: 11 \t Log-likelihood -26976.643\r",
      "Step: 12 \t Log-likelihood -26969.36\r",
      "Step: 13 \t Log-likelihood -26963.07\r",
      "Step: 14 \t Log-likelihood -26957.57\r",
      "Step: 15 \t Log-likelihood -26952.758\r",
      "Step: 16 \t Log-likelihood -26948.5\r",
      "Step: 17 \t Log-likelihood -26944.72\r",
      "Step: 18 \t Log-likelihood -26941.346\r",
      "Step: 19 \t Log-likelihood -26938.328\r",
      "Step: 20 \t Log-likelihood -26935.621\r",
      "Step: 21 \t Log-likelihood -26933.166\r",
      "Step: 22 \t Log-likelihood -26930.96\r",
      "Step: 23 \t Log-likelihood -26928.969\r",
      "Step: 24 \t Log-likelihood -26927.166\r",
      "Step: 25 \t Log-likelihood -26925.53\r",
      "Step: 26 \t Log-likelihood -26924.045\r",
      "Step: 27 \t Log-likelihood -26922.707\r",
      "Step: 28 \t Log-likelihood -26921.484\r",
      "Step: 29 \t Log-likelihood -26920.373\r",
      "Step: 30 \t Log-likelihood -26919.365\r",
      "Step: 31 \t Log-likelihood -26918.45\r",
      "Step: 32 \t Log-likelihood -26917.62\r",
      "Step: 33 \t Log-likelihood -26916.855\r",
      "Step: 34 \t Log-likelihood -26916.166\r",
      "Step: 35 \t Log-likelihood -26915.535\r",
      "Step: 36 \t Log-likelihood -26914.96\r",
      "Step: 37 \t Log-likelihood -26914.44\r",
      "Step: 38 \t Log-likelihood -26913.96\r",
      "Step: 39 \t Log-likelihood -26913.523\r",
      "Step: 40 \t Log-likelihood -26913.123\r",
      "Step: 41 \t Log-likelihood -26912.756\r",
      "Step: 42 \t Log-likelihood -26912.426\r",
      "Step: 43 \t Log-likelihood -26912.115\r",
      "Step: 44 \t Log-likelihood -26911.836\r",
      "Step: 45 \t Log-likelihood -26911.576\r",
      "Step: 46 \t Log-likelihood -26911.342\r",
      "Step: 47 \t Log-likelihood -26911.127\r",
      "Step: 48 \t Log-likelihood -26910.928\r",
      "Step: 49 \t Log-likelihood -26910.744\r",
      "Step: 50 \t Log-likelihood -26910.578\r",
      "Step: 51 \t Log-likelihood -26910.42\r",
      "Step: 52 \t Log-likelihood -26910.277\r",
      "Step: 53 \t Log-likelihood -26910.152\r",
      "Step: 54 \t Log-likelihood -26910.021\r",
      "Step: 55 \t Log-likelihood -26909.912\r",
      "Step: 56 \t Log-likelihood -26909.812\r",
      "Step: 57 \t Log-likelihood -26909.719\r",
      "Step: 58 \t Log-likelihood -26909.629\r",
      "Step: 59 \t Log-likelihood -26909.55\r",
      "Step: 60 \t Log-likelihood -26909.473\r",
      "Step: 61 \t Log-likelihood -26909.404\r",
      "Step: 62 \t Log-likelihood -26909.336\r",
      "Step: 63 \t Log-likelihood -26909.275\r",
      "Step: 64 \t Log-likelihood -26909.227\r",
      "Step: 65 \t Log-likelihood -26909.174\r",
      "Step: 66 \t Log-likelihood -26909.125\r",
      "Step: 67 \t Log-likelihood -26909.084\r",
      "Step: 68 \t Log-likelihood -26909.043\r",
      "Step: 69 \t Log-likelihood -26909.008\r",
      "Step: 70 \t Log-likelihood -26908.977\r",
      "Step: 71 \t Log-likelihood -26908.943\r",
      "Step: 72 \t Log-likelihood -26908.91\r",
      "Step: 73 \t Log-likelihood -26908.887\r",
      "Step: 74 \t Log-likelihood -26908.86\r",
      "Step: 75 \t Log-likelihood -26908.836\r",
      "Step: 76 \t Log-likelihood -26908.814\r",
      "Step: 77 \t Log-likelihood -26908.797\r",
      "Step: 78 \t Log-likelihood -26908.775\r",
      "Step: 79 \t Log-likelihood -26908.758\r",
      "Step: 80 \t Log-likelihood -26908.74\r",
      "Step: 81 \t Log-likelihood -26908.727\r",
      "Step: 82 \t Log-likelihood -26908.71\r",
      "Step: 83 \t Log-likelihood -26908.7\r",
      "Step: 84 \t Log-likelihood -26908.684\r",
      "Step: 85 \t Log-likelihood -26908.674\r",
      "Step: 86 \t Log-likelihood -26908.66\r",
      "Step: 87 \t Log-likelihood -26908.654\r",
      "Step: 88 \t Log-likelihood -26908.645\r",
      "Step: 89 \t Log-likelihood -26908.639\r",
      "Step: 90 \t Log-likelihood -26908.625\r",
      "Step: 91 \t Log-likelihood -26908.621\r",
      "Step: 92 \t Log-likelihood -26908.615\r",
      "Step: 93 \t Log-likelihood -26908.61\r",
      "Step: 94 \t Log-likelihood -26908.604\r",
      "Step: 95 \t Log-likelihood -26908.596\r",
      "Step: 96 \t Log-likelihood -26908.588\r",
      "Step: 97 \t Log-likelihood -26908.582\r",
      "Step: 98 \t Log-likelihood -26908.582\r",
      "Step: 99 \t Log-likelihood -26908.578\r",
      "Step: 100 \t Log-likelihood -26908.576\r",
      "Step: 101 \t Log-likelihood -26908.566\r",
      "Step: 102 \t Log-likelihood -26908.566\r",
      "Step: 103 \t Log-likelihood -26908.562\r",
      "Step: 104 \t Log-likelihood -26908.559\r",
      "Step: 105 \t Log-likelihood -26908.557\r",
      "Step: 106 \t Log-likelihood -26908.557\r",
      "Step: 107 \t Log-likelihood -26908.55\r",
      "Step: 108 \t Log-likelihood -26908.553\r",
      "Step: 109 \t Log-likelihood -26908.547\r",
      "Step: 110 \t Log-likelihood -26908.547\r",
      "Step: 111 \t Log-likelihood -26908.54\r",
      "Step: 112 \t Log-likelihood -26908.543\r",
      "Step: 113 \t Log-likelihood -26908.54\r",
      "Step: 114 \t Log-likelihood -26908.541\r",
      "Step: 115 \t Log-likelihood -26908.535\r",
      "Step: 116 \t Log-likelihood -26908.54\r",
      "Step: 117 \t Log-likelihood -26908.535\r",
      "Step: 118 \t Log-likelihood -26908.535\r",
      "Step: 119 \t Log-likelihood -26908.535\r",
      "Step: 120 \t Log-likelihood -26908.533\r",
      "Step: 121 \t Log-likelihood -26908.533\r",
      "Step: 122 \t Log-likelihood -26908.533\r",
      "Step: 123 \t Log-likelihood -26908.531\r",
      "Step: 124 \t Log-likelihood -26908.525\r",
      "Step: 125 \t Log-likelihood -26908.53\r",
      "Step: 126 \t Log-likelihood -26908.527\r",
      "Step: 127 \t Log-likelihood -26908.525\r",
      "Step: 128 \t Log-likelihood -26908.523\r",
      "Step: 129 \t Log-likelihood -26908.523\r",
      "Step: 130 \t Log-likelihood -26908.523\r",
      "Step: 131 \t Log-likelihood -26908.523\r",
      "Step: 132 \t Log-likelihood -26908.521\r",
      "Step: 133 \t Log-likelihood -26908.523\r",
      "Step: 134 \t Log-likelihood -26908.521\r",
      "Step: 135 \t Log-likelihood -26908.521\r",
      "Step: 136 \t Log-likelihood -26908.52\r",
      "Step: 137 \t Log-likelihood -26908.518\r",
      "Step: 138 \t Log-likelihood -26908.52\r",
      "Step: 139 \t Log-likelihood -26908.527\r",
      "Step: 140 \t Log-likelihood -26908.521\r",
      "Step: 141 \t Log-likelihood -26908.52\r",
      "Step: 142 \t Log-likelihood -26908.516\r",
      "Step: 143 \t Log-likelihood -26908.516\r",
      "Step: 144 \t Log-likelihood -26908.521\r",
      "Step: 145 \t Log-likelihood -26908.518\r",
      "Step: 146 \t Log-likelihood -26908.516\r",
      "Step: 147 \t Log-likelihood -26908.514\r",
      "Step: 148 \t Log-likelihood -26908.518\r",
      "Step: 149 \t Log-likelihood -26908.521\r",
      "Step: 150 \t Log-likelihood -26908.52\r",
      "Step: 151 \t Log-likelihood -26908.521\r",
      "Step: 152 \t Log-likelihood -26908.516\r",
      "Step: 153 \t Log-likelihood -26908.518\r",
      "Step: 154 \t Log-likelihood -26908.521\r",
      "Step: 155 \t Log-likelihood -26908.518\r",
      "Step: 156 \t Log-likelihood -26908.52\r",
      "Step: 157 \t Log-likelihood -26908.516\r",
      "Step: 158 \t Log-likelihood -26908.518\r",
      "Step: 159 \t Log-likelihood -26908.52\r",
      "Step: 160 \t Log-likelihood -26908.52\r",
      "Step: 161 \t Log-likelihood -26908.514\r",
      "Step: 162 \t Log-likelihood -26908.516\r",
      "Step: 163 \t Log-likelihood -26908.516\r",
      "Step: 164 \t Log-likelihood -26908.518\r",
      "Step: 165 \t Log-likelihood -26908.518\r",
      "Step: 166 \t Log-likelihood -26908.518\r",
      "Step: 167 \t Log-likelihood -26908.51\r",
      "Step: 168 \t Log-likelihood -26908.516\r",
      "Step: 169 \t Log-likelihood -26908.516\r",
      "Step: 170 \t Log-likelihood -26908.518\r",
      "Step: 171 \t Log-likelihood -26908.518\r",
      "Step: 172 \t Log-likelihood -26908.52\r",
      "Step: 173 \t Log-likelihood -26908.516\r",
      "Step: 174 \t Log-likelihood -26908.516\r",
      "Step: 175 \t Log-likelihood -26908.516\r",
      "Step: 176 \t Log-likelihood -26908.514\r",
      "Step: 177 \t Log-likelihood -26908.516\r",
      "Step: 178 \t Log-likelihood -26908.518\r",
      "Step: 179 \t Log-likelihood -26908.518\r",
      "Step: 180 \t Log-likelihood -26908.518\r",
      "Step: 181 \t Log-likelihood -26908.514\r",
      "Step: 182 \t Log-likelihood -26908.514\r",
      "Step: 183 \t Log-likelihood -26908.516\r",
      "Step: 184 \t Log-likelihood -26908.516\r",
      "Step: 185 \t Log-likelihood -26908.51\r",
      "Step: 186 \t Log-likelihood -26908.512\r",
      "Step: 187 \t Log-likelihood -26908.512\r",
      "Step: 188 \t Log-likelihood -26908.518\r",
      "Step: 189 \t Log-likelihood -26908.516\r",
      "Step: 190 \t Log-likelihood -26908.514\r",
      "Step: 191 \t Log-likelihood -26908.52\r",
      "Step: 192 \t Log-likelihood -26908.518\r",
      "Step: 193 \t Log-likelihood -26908.514\r",
      "Step: 194 \t Log-likelihood -26908.518\r",
      "Step: 195 \t Log-likelihood -26908.518\r",
      "Step: 196 \t Log-likelihood -26908.51\r",
      "Step: 197 \t Log-likelihood -26908.512\r",
      "Step: 198 \t Log-likelihood -26908.518\r",
      "Step: 199 \t Log-likelihood -26908.514\r",
      "Step: 200 \t Log-likelihood -26908.514\r",
      "Step: 201 \t Log-likelihood -26908.514\r",
      "Step: 202 \t Log-likelihood -26908.512\r",
      "Step: 203 \t Log-likelihood -26908.51\r",
      "Step: 204 \t Log-likelihood -26908.516\r",
      "Step: 205 \t Log-likelihood -26908.512\r",
      "Step: 206 \t Log-likelihood -26908.52\r",
      "Step: 207 \t Log-likelihood -26908.512\r",
      "Step: 208 \t Log-likelihood -26908.516\r",
      "Step: 209 \t Log-likelihood -26908.518\r",
      "Step: 210 \t Log-likelihood -26908.518\r",
      "Step: 211 \t Log-likelihood -26908.516\r",
      "Step: 212 \t Log-likelihood -26908.516\r",
      "Step: 213 \t Log-likelihood -26908.516\r",
      "Step: 214 \t Log-likelihood -26908.512\r",
      "Step: 215 \t Log-likelihood -26908.51\r",
      "Step: 216 \t Log-likelihood -26908.514\r",
      "Step: 217 \t Log-likelihood -26908.514\r",
      "Step: 218 \t Log-likelihood -26908.516\r",
      "Step: 219 \t Log-likelihood -26908.518\r",
      "Step: 220 \t Log-likelihood -26908.516\r",
      "Step: 221 \t Log-likelihood -26908.512\r",
      "Step: 222 \t Log-likelihood -26908.512\r",
      "Step: 223 \t Log-likelihood -26908.514\r",
      "Step: 224 \t Log-likelihood -26908.514\r",
      "Step: 225 \t Log-likelihood -26908.512\r",
      "Step: 226 \t Log-likelihood -26908.512\r",
      "Step: 227 \t Log-likelihood -26908.516\r",
      "Step: 228 \t Log-likelihood -26908.516\r",
      "Step: 229 \t Log-likelihood -26908.512\r",
      "Step: 230 \t Log-likelihood -26908.512\r",
      "Step: 231 \t Log-likelihood -26908.514\r",
      "Step: 232 \t Log-likelihood -26908.51\r",
      "Step: 233 \t Log-likelihood -26908.516\r",
      "Step: 234 \t Log-likelihood -26908.508\r",
      "Step: 235 \t Log-likelihood -26908.52\r",
      "Step: 236 \t Log-likelihood -26908.516\r",
      "Step: 237 \t Log-likelihood -26908.512\r",
      "Step: 238 \t Log-likelihood -26908.518\r",
      "Step: 239 \t Log-likelihood -26908.516\r",
      "Step: 240 \t Log-likelihood -26908.516\r",
      "Step: 241 \t Log-likelihood -26908.516\r",
      "Step: 242 \t Log-likelihood -26908.512\r",
      "Step: 243 \t Log-likelihood -26908.514\r",
      "Step: 244 \t Log-likelihood -26908.514\r",
      "Step: 245 \t Log-likelihood -26908.516\r",
      "Step: 246 \t Log-likelihood -26908.516\r",
      "Step: 247 \t Log-likelihood -26908.516\r",
      "Step: 248 \t Log-likelihood -26908.516\r",
      "Step: 249 \t Log-likelihood -26908.512\r",
      "Step: 250 \t Log-likelihood -26908.512\r",
      "Step: 251 \t Log-likelihood -26908.516\r",
      "Step: 252 \t Log-likelihood -26908.516\r",
      "Step: 253 \t Log-likelihood -26908.514\r",
      "Step: 254 \t Log-likelihood -26908.512\r",
      "Step: 255 \t Log-likelihood -26908.512\r",
      "Step: 256 \t Log-likelihood -26908.516\r",
      "Step: 257 \t Log-likelihood -26908.514\r",
      "Step: 258 \t Log-likelihood -26908.51\r",
      "Step: 259 \t Log-likelihood -26908.514\r",
      "Step: 260 \t Log-likelihood -26908.516\r",
      "Step: 261 \t Log-likelihood -26908.512\r",
      "Step: 262 \t Log-likelihood -26908.516\r",
      "Step: 263 \t Log-likelihood -26908.512\r",
      "Step: 264 \t Log-likelihood -26908.512\r",
      "Step: 265 \t Log-likelihood -26908.512\r",
      "Step: 266 \t Log-likelihood -26908.514\r",
      "Step: 267 \t Log-likelihood -26908.514\r",
      "Step: 268 \t Log-likelihood -26908.512\r",
      "Step: 269 \t Log-likelihood -26908.514\r",
      "Step: 270 \t Log-likelihood -26908.514\r",
      "Step: 271 \t Log-likelihood -26908.514\r",
      "Step: 272 \t Log-likelihood -26908.512\r",
      "Step: 273 \t Log-likelihood -26908.512\r",
      "Step: 274 \t Log-likelihood -26908.514\r",
      "Step: 275 \t Log-likelihood -26908.512\r",
      "Step: 276 \t Log-likelihood -26908.516\r",
      "Step: 277 \t Log-likelihood -26908.514\r",
      "Step: 278 \t Log-likelihood -26908.506\r",
      "Step: 279 \t Log-likelihood -26908.51\r",
      "Step: 280 \t Log-likelihood -26908.512\r",
      "Step: 281 \t Log-likelihood -26908.512\r",
      "Step: 282 \t Log-likelihood -26908.51\r",
      "Step: 283 \t Log-likelihood -26908.514\r",
      "Step: 284 \t Log-likelihood -26908.514\r",
      "Step: 285 \t Log-likelihood -26908.51\r",
      "Step: 286 \t Log-likelihood -26908.514\r",
      "Step: 287 \t Log-likelihood -26908.516\r",
      "Step: 288 \t Log-likelihood -26908.512\r",
      "Step: 289 \t Log-likelihood -26908.51\r",
      "Step: 290 \t Log-likelihood -26908.512\r",
      "Step: 291 \t Log-likelihood -26908.512\r",
      "Step: 292 \t Log-likelihood -26908.516\r",
      "Step: 293 \t Log-likelihood -26908.512\r",
      "Step: 294 \t Log-likelihood -26908.514\r",
      "Step: 295 \t Log-likelihood -26908.516\r",
      "Step: 296 \t Log-likelihood -26908.512\r",
      "Step: 297 \t Log-likelihood -26908.512\r",
      "Step: 298 \t Log-likelihood -26908.512\r",
      "Step: 299 \t Log-likelihood -26908.51\r",
      "Step: 300 \t Log-likelihood -26908.514\r",
      "Step: 301 \t Log-likelihood -26908.51\r",
      "Step: 302 \t Log-likelihood -26908.51\r",
      "Step: 303 \t Log-likelihood -26908.51\r",
      "Step: 304 \t Log-likelihood -26908.512\r",
      "Step: 305 \t Log-likelihood -26908.516\r",
      "Step: 306 \t Log-likelihood -26908.51\r",
      "Step: 307 \t Log-likelihood -26908.512\r",
      "Step: 308 \t Log-likelihood -26908.512\r",
      "Step: 309 \t Log-likelihood -26908.51\r",
      "Step: 310 \t Log-likelihood -26908.51\r",
      "Step: 311 \t Log-likelihood -26908.518\r",
      "Step: 312 \t Log-likelihood -26908.51\r",
      "Step: 313 \t Log-likelihood -26908.514\r",
      "Step: 314 \t Log-likelihood -26908.51\r",
      "Step: 315 \t Log-likelihood -26908.512\r",
      "Step: 316 \t Log-likelihood -26908.51\r",
      "Step: 317 \t Log-likelihood -26908.508\r",
      "Step: 318 \t Log-likelihood -26908.516\r",
      "Step: 319 \t Log-likelihood -26908.514\r",
      "Step: 320 \t Log-likelihood -26908.512\r",
      "Step: 321 \t Log-likelihood -26908.512\r",
      "Step: 322 \t Log-likelihood -26908.514\r",
      "Step: 323 \t Log-likelihood -26908.514\r",
      "Step: 324 \t Log-likelihood -26908.514\r",
      "Step: 325 \t Log-likelihood -26908.514\r",
      "Step: 326 \t Log-likelihood -26908.512\r",
      "Step: 327 \t Log-likelihood -26908.514\r",
      "Step: 328 \t Log-likelihood -26908.508\r",
      "Step: 329 \t Log-likelihood -26908.512\r",
      "Step: 330 \t Log-likelihood -26908.512\r",
      "Step: 331 \t Log-likelihood -26908.516\r",
      "Step: 332 \t Log-likelihood -26908.512\r",
      "Step: 333 \t Log-likelihood -26908.516\r",
      "Step: 334 \t Log-likelihood -26908.512\r"
     ]
    },
    {
     "name": "stdout",
     "output_type": "stream",
     "text": [
      "Step: 335 \t Log-likelihood -26908.514\r",
      "Step: 336 \t Log-likelihood -26908.514\r",
      "Step: 337 \t Log-likelihood -26908.51\r",
      "Step: 338 \t Log-likelihood -26908.512\r",
      "Step: 339 \t Log-likelihood -26908.512\r",
      "Step: 340 \t Log-likelihood -26908.51\r",
      "Step: 341 \t Log-likelihood -26908.512\r",
      "Step: 342 \t Log-likelihood -26908.51\r",
      "Step: 343 \t Log-likelihood -26908.512\r",
      "Step: 344 \t Log-likelihood -26908.512\r",
      "Step: 345 \t Log-likelihood -26908.514\r",
      "Step: 346 \t Log-likelihood -26908.514\r",
      "Step: 347 \t Log-likelihood -26908.514\r",
      "Step: 348 \t Log-likelihood -26908.514\r",
      "Step: 349 \t Log-likelihood -26908.514\r",
      "Step: 350 \t Log-likelihood -26908.512\r",
      "Step: 351 \t Log-likelihood -26908.512\r",
      "Step: 352 \t Log-likelihood -26908.51\r",
      "Step: 353 \t Log-likelihood -26908.508\r",
      "Step: 354 \t Log-likelihood -26908.512\r",
      "Step: 355 \t Log-likelihood -26908.51\r",
      "Step: 356 \t Log-likelihood -26908.516\r",
      "Step: 357 \t Log-likelihood -26908.51\r",
      "Step: 358 \t Log-likelihood -26908.512\r",
      "Step: 359 \t Log-likelihood -26908.51\r",
      "Step: 360 \t Log-likelihood -26908.512\r",
      "Step: 361 \t Log-likelihood -26908.512\r",
      "Step: 362 \t Log-likelihood -26908.514\r",
      "Step: 363 \t Log-likelihood -26908.508\r",
      "Step: 364 \t Log-likelihood -26908.512\r",
      "Step: 365 \t Log-likelihood -26908.512\r",
      "Step: 366 \t Log-likelihood -26908.512\r",
      "Step: 367 \t Log-likelihood -26908.51\r",
      "Step: 368 \t Log-likelihood -26908.506\r",
      "Step: 369 \t Log-likelihood -26908.51\r",
      "Step: 370 \t Log-likelihood -26908.51\r",
      "Step: 371 \t Log-likelihood -26908.51\r",
      "Step: 372 \t Log-likelihood -26908.512\r",
      "Step: 373 \t Log-likelihood -26908.514\r",
      "Step: 374 \t Log-likelihood -26908.51\r",
      "Step: 375 \t Log-likelihood -26908.508\r",
      "Step: 376 \t Log-likelihood -26908.508\r",
      "Step: 377 \t Log-likelihood -26908.512\r",
      "Step: 378 \t Log-likelihood -26908.508\r",
      "Step: 379 \t Log-likelihood -26908.512\r",
      "Step: 380 \t Log-likelihood -26908.508\r",
      "Step: 381 \t Log-likelihood -26908.508\r",
      "Step: 382 \t Log-likelihood -26908.508\r",
      "Step: 383 \t Log-likelihood -26908.508\r",
      "Step: 384 \t Log-likelihood -26908.51\r",
      "Step: 385 \t Log-likelihood -26908.51\r",
      "Step: 386 \t Log-likelihood -26908.51\r",
      "Step: 387 \t Log-likelihood -26908.514\r",
      "Step: 388 \t Log-likelihood -26908.514\r",
      "Step: 389 \t Log-likelihood -26908.514\r",
      "Step: 390 \t Log-likelihood -26908.512\r",
      "Step: 391 \t Log-likelihood -26908.514\r",
      "Step: 392 \t Log-likelihood -26908.51\r",
      "Step: 393 \t Log-likelihood -26908.512\r",
      "Step: 394 \t Log-likelihood -26908.512\r",
      "Step: 395 \t Log-likelihood -26908.512\r",
      "Step: 396 \t Log-likelihood -26908.51\r",
      "Step: 397 \t Log-likelihood -26908.51\r",
      "Step: 398 \t Log-likelihood -26908.51\r",
      "Step: 399 \t Log-likelihood -26908.512\r",
      "Step: 400 \t Log-likelihood -26908.512\r",
      "Step: 401 \t Log-likelihood -26908.512\r",
      "Step: 402 \t Log-likelihood -26908.512\r",
      "Step: 403 \t Log-likelihood -26908.512\r",
      "Step: 404 \t Log-likelihood -26908.512\r",
      "Step: 405 \t Log-likelihood -26908.512\r",
      "Step: 406 \t Log-likelihood -26908.512\r",
      "Step: 407 \t Log-likelihood -26908.51\r",
      "Step: 408 \t Log-likelihood -26908.512\r",
      "Step: 409 \t Log-likelihood -26908.51\r",
      "Step: 410 \t Log-likelihood -26908.51\r",
      "Step: 411 \t Log-likelihood -26908.512\r",
      "Step: 412 \t Log-likelihood -26908.512\r",
      "Step: 413 \t Log-likelihood -26908.512\r",
      "Step: 414 \t Log-likelihood -26908.512\r",
      "Step: 415 \t Log-likelihood -26908.512\r",
      "Step: 416 \t Log-likelihood -26908.514\r",
      "Step: 417 \t Log-likelihood -26908.51\r",
      "Step: 418 \t Log-likelihood -26908.514\r",
      "Step: 419 \t Log-likelihood -26908.516\r",
      "Step: 420 \t Log-likelihood -26908.512\r",
      "Step: 421 \t Log-likelihood -26908.514\r",
      "Step: 422 \t Log-likelihood -26908.512\r",
      "Step: 423 \t Log-likelihood -26908.516\r",
      "Step: 424 \t Log-likelihood -26908.518\r",
      "Step: 425 \t Log-likelihood -26908.514\r",
      "Step: 426 \t Log-likelihood -26908.51\r",
      "Step: 427 \t Log-likelihood -26908.514\r",
      "Step: 428 \t Log-likelihood -26908.516\r",
      "Step: 429 \t Log-likelihood -26908.508\r",
      "Step: 430 \t Log-likelihood -26908.508\r",
      "Step: 431 \t Log-likelihood -26908.508\r",
      "Step: 432 \t Log-likelihood -26908.512\r",
      "Step: 433 \t Log-likelihood -26908.506\r",
      "Step: 434 \t Log-likelihood -26908.51\r",
      "Step: 435 \t Log-likelihood -26908.512\r",
      "Step: 436 \t Log-likelihood -26908.512\r",
      "Step: 437 \t Log-likelihood -26908.516\r",
      "Step: 438 \t Log-likelihood -26908.514\r",
      "Step: 439 \t Log-likelihood -26908.512\r",
      "Step: 440 \t Log-likelihood -26908.512\r",
      "Step: 441 \t Log-likelihood -26908.512\r",
      "Step: 442 \t Log-likelihood -26908.514\r",
      "Step: 443 \t Log-likelihood -26908.512\r",
      "Step: 444 \t Log-likelihood -26908.516\r",
      "Step: 445 \t Log-likelihood -26908.512\r",
      "Step: 446 \t Log-likelihood -26908.512\r",
      "Step: 447 \t Log-likelihood -26908.514\r",
      "Step: 448 \t Log-likelihood -26908.512\r",
      "Step: 449 \t Log-likelihood -26908.512\r",
      "Step: 450 \t Log-likelihood -26908.51\r",
      "Step: 451 \t Log-likelihood -26908.512\r",
      "Step: 452 \t Log-likelihood -26908.516\r",
      "Step: 453 \t Log-likelihood -26908.508\r",
      "Step: 454 \t Log-likelihood -26908.51\r",
      "Step: 455 \t Log-likelihood -26908.51\r",
      "Step: 456 \t Log-likelihood -26908.51\r",
      "Step: 457 \t Log-likelihood -26908.51\r",
      "Step: 458 \t Log-likelihood -26908.51\r",
      "Step: 459 \t Log-likelihood -26908.512\r",
      "Step: 460 \t Log-likelihood -26908.512\r",
      "Step: 461 \t Log-likelihood -26908.514\r",
      "Step: 462 \t Log-likelihood -26908.516\r",
      "Step: 463 \t Log-likelihood -26908.518\r",
      "Step: 464 \t Log-likelihood -26908.512\r",
      "Step: 465 \t Log-likelihood -26908.512\r",
      "Step: 466 \t Log-likelihood -26908.512\r",
      "Step: 467 \t Log-likelihood -26908.514\r",
      "Step: 468 \t Log-likelihood -26908.512\r",
      "Step: 469 \t Log-likelihood -26908.512\r",
      "Step: 470 \t Log-likelihood -26908.512\r",
      "Step: 471 \t Log-likelihood -26908.51\r",
      "Step: 472 \t Log-likelihood -26908.51\r",
      "Step: 473 \t Log-likelihood -26908.51\r",
      "Step: 474 \t Log-likelihood -26908.516\r",
      "Step: 475 \t Log-likelihood -26908.512\r",
      "Step: 476 \t Log-likelihood -26908.514\r",
      "Step: 477 \t Log-likelihood -26908.51\r",
      "Step: 478 \t Log-likelihood -26908.508\r",
      "Step: 479 \t Log-likelihood -26908.508\r",
      "Step: 480 \t Log-likelihood -26908.512\r",
      "Step: 481 \t Log-likelihood -26908.508\r",
      "Step: 482 \t Log-likelihood -26908.51\r",
      "Step: 483 \t Log-likelihood -26908.512\r",
      "Step: 484 \t Log-likelihood -26908.512\r",
      "Step: 485 \t Log-likelihood -26908.51\r",
      "Step: 486 \t Log-likelihood -26908.512\r",
      "Step: 487 \t Log-likelihood -26908.508\r",
      "Step: 488 \t Log-likelihood -26908.508\r",
      "Step: 489 \t Log-likelihood -26908.512\r",
      "Step: 490 \t Log-likelihood -26908.512\r",
      "Step: 491 \t Log-likelihood -26908.514\r",
      "Step: 492 \t Log-likelihood -26908.512\r",
      "Step: 493 \t Log-likelihood -26908.512\r",
      "Step: 494 \t Log-likelihood -26908.508\r",
      "Step: 495 \t Log-likelihood -26908.512\r",
      "Step: 496 \t Log-likelihood -26908.514\r",
      "Step: 497 \t Log-likelihood -26908.514\r",
      "Step: 498 \t Log-likelihood -26908.51\r",
      "Step: 499 \t Log-likelihood -26908.51\r",
      "Step: 500 \t Log-likelihood -26908.512\r"
     ]
    }
   ],
   "source": [
    "stepsize = 1e-3\n",
    "n_steps = 500\n",
    "\n",
    "tp_train = jnp.zeros(num_pauli_combos)\n",
    "logliks_train = jnp.zeros(n_steps)\n",
    "for i in range(n_steps):\n",
    "    loglik, tloglik_grad = transformed_log_likelihood_and_grad(tp_train)\n",
    "    logliks_train = logliks_train.at[i].set(loglik)\n",
    "    print('Step:', i+1, '\\t Log-likelihood', loglik, end='\\r')\n",
    "    \n",
    "    tp_train += stepsize * tloglik_grad"
   ]
  },
  {
   "cell_type": "code",
   "execution_count": 27,
   "id": "aba438d0",
   "metadata": {},
   "outputs": [
    {
     "data": {
      "image/png": "[encoded data removed]",
      "text/plain": [
       "<Figure size 640x480 with 1 Axes>"
      ]
     },
     "metadata": {},
     "output_type": "display_data"
    }
   ],
   "source": [
    "plt.plot(logliks_train)\n",
    "plt.xlabel('Iteration')\n",
    "plt.ylabel('Log-likelihood');"
   ]
  },
  {
   "cell_type": "markdown",
   "id": "fc0ffe6d",
   "metadata": {},
   "source": [
    "Looks like it trained well!\n",
    "\n",
    "Let's examine the fitted maximum likelihood estimator of $p$"
   ]
  },
  {
   "cell_type": "code",
   "execution_count": 28,
   "id": "f2d81982",
   "metadata": {},
   "outputs": [],
   "source": [
    "mle_pvec = constrain_simplex(tp_train)\n",
    "mle_pvec = jnp.append(mle_pvec, 1-mle_pvec.sum())"
   ]
  },
  {
   "cell_type": "code",
   "execution_count": 29,
   "id": "4da4f3b4",
   "metadata": {},
   "outputs": [
    {
     "data": {
      "image/png": "[encoded data removed]",
      "text/plain": [
       "<Figure size 640x480 with 1 Axes>"
      ]
     },
     "metadata": {},
     "output_type": "display_data"
    }
   ],
   "source": [
    "_x2 = jnp.arange(len(kraus_strs))\n",
    "bar_width2 = 0.4\n",
    "plt.bar(_x2 - 0.2, noise_pvec, bar_width2, label='True', color='purple')\n",
    "plt.bar(_x2 + 0.2, mle_pvec, bar_width2, label='Fitted MLE', color='lightblue')\n",
    "plt.xticks(_x2, kraus_strs)\n",
    "plt.ylabel('p')\n",
    "plt.legend();"
   ]
  },
  {
   "cell_type": "markdown",
   "id": "3082a524",
   "metadata": {},
   "source": [
    "Ok it appears somewhat similar to the true underlying value of $p$ although there are some clear differences. (remember that the training started from uniform values for $p$)\n",
    "\n",
    "Let's also check out the measurement probabilities of the fitted MLE"
   ]
  },
  {
   "cell_type": "code",
   "execution_count": 30,
   "id": "bdbcac83",
   "metadata": {},
   "outputs": [
    {
     "data": {
      "image/png": "[encoded data removed]",
      "text/plain": [
       "<Figure size 640x480 with 1 Axes>"
      ]
     },
     "metadata": {},
     "output_type": "display_data"
    }
   ],
   "source": [
    "mle_measure_probs = pvec_to_measure_probs(mle_pvec)\n",
    "\n",
    "plt.bar(_x - 0.2, noisy_measure_probs, bar_width, label='Noisy', color='green')\n",
    "plt.bar(_x, jnp.bincount(measurements) / n_measurements, bar_width, label='Sampled', color='orange')\n",
    "plt.bar(_x + 0.2, mle_measure_probs, bar_width, label='MLE', color='steelblue')\n",
    "plt.xticks(_x, [f\"{a:04b}\" for a in _x], rotation=90)\n",
    "plt.ylabel(r'$P(m \\mid p)$')\n",
    "plt.legend();"
   ]
  },
  {
   "cell_type": "markdown",
   "id": "0dfbdddd",
   "metadata": {},
   "source": [
    "Very similar to both the measurement probabilities of the true $p$ as well as the measurements. This indicates that the true $p$ is not fully identifiable from our combination of circuit and measurements.\n",
    "\n",
    "A Bayesian approach could be applied to fully quantify this uncertainty via the posterior distribution $P(p \\mid \\{m_j\\}_{j=1}^N)$.\n",
    "\n",
    "We could also consider more sophisticated circuits in order to generate measurements that are more informative for $p$."
   ]
  }
 ],
 "metadata": {
  "kernelspec": {
   "display_name": "Python 3 (ipykernel)",
   "language": "python",
   "name": "python3"
  },
  "language_info": {
   "codemirror_mode": {
    "name": "ipython",
    "version": 3
   },
   "file_extension": ".py",
   "mimetype": "text/x-python",
   "name": "python",
   "nbconvert_exporter": "python",
   "pygments_lexer": "ipython3",
   "version": "3.11.1"
  },
  "vscode": {
   "interpreter": {
    "hash": "b433e4578971c91d089121fd33d22d8b5bd00020d1ea87396e3458f35e6dcb5e"
   }
  }
 },
 "nbformat": 4,
 "nbformat_minor": 5
}
