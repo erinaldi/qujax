{
 "cells": [
  {
   "cell_type": "code",
   "execution_count": 1,
   "id": "35c3cf82",
   "metadata": {},
   "outputs": [],
   "source": [
    "from jax import numpy as jnp, random, vmap, jit, value_and_grad\n",
    "import qujax\n",
    "import matplotlib.pyplot as plt"
   ]
  },
  {
   "cell_type": "markdown",
   "id": "3d3adcdd",
   "metadata": {},
   "source": [
    "# Depolarising noise channel\n",
    "\n",
    "Suppose we wish to apply a $k$-qubit unitary matrix (gate) $U$ but our system is affected by a depolarising noise channel. In density matrix notation the noiseless application of the unitary $\\rho \\to U\\rho U^\\dagger$ is replaced with\n",
    "\n",
    "\\begin{equation}\n",
    "\\mathcal{D}_{\\bar{p},U}[\\rho] = p_0 U\\rho U^\\dagger + \\sum_{i=1}^{4^k} p_i P_i \\rho P_i^\\dagger, \\label{dnc}\\tag{1}\n",
    "\\end{equation}\n",
    "where $P_i \\in \\{I, X, Y, Z\\}^{\\otimes k}$ and $\\sum_{i=0}^{4^k} p_i = 1$."
   ]
  },
  {
   "cell_type": "markdown",
   "id": "f6a857ce",
   "metadata": {},
   "source": [
    "Here we will assume single qubit gates are noiseless and two qubit gates are affected by a depolarising noise channel with shared but unknown probability vector $p$ which we will look to recover."
   ]
  },
  {
   "cell_type": "markdown",
   "id": "a3e57fe7",
   "metadata": {},
   "source": [
    "First let's construct the set of two qubit Pauli combinations $\\{I, X, Y, Z\\}^{\\otimes 2}$"
   ]
  },
  {
   "cell_type": "code",
   "execution_count": 2,
   "id": "737b6193",
   "metadata": {},
   "outputs": [
    {
     "data": {
      "text/plain": [
       "{'I': Array([[1., 0.],\n",
       "        [0., 1.]], dtype=float32),\n",
       " 'X': Array([[0., 1.],\n",
       "        [1., 0.]], dtype=float32),\n",
       " 'Y': Array([[ 0.+0.j, -0.-1.j],\n",
       "        [ 0.+1.j,  0.+0.j]], dtype=complex64),\n",
       " 'Z': Array([[ 1.,  0.],\n",
       "        [ 0., -1.]], dtype=float32)}"
      ]
     },
     "execution_count": 2,
     "metadata": {},
     "output_type": "execute_result"
    }
   ],
   "source": [
    "paulis = {'I': qujax.gates.I, 'X': qujax.gates.X, 'Y': qujax.gates.Y, 'Z': qujax.gates.Z}\n",
    "paulis"
   ]
  },
  {
   "cell_type": "code",
   "execution_count": 3,
   "id": "fc510cc7",
   "metadata": {},
   "outputs": [
    {
     "name": "stdout",
     "output_type": "stream",
     "text": [
      "['II', 'IX', 'IY', 'IZ', 'XI', 'XX', 'XY', 'XZ', 'YI', 'YX', 'YY', 'YZ', 'ZI', 'ZX', 'ZY', 'ZZ']\n"
     ]
    }
   ],
   "source": [
    "two_paulis_strs = [a+b for a in paulis.keys() for b in paulis.keys()]\n",
    "print(two_paulis_strs)"
   ]
  },
  {
   "cell_type": "code",
   "execution_count": 4,
   "id": "f0674df9",
   "metadata": {},
   "outputs": [
    {
     "data": {
      "text/plain": [
       "(16, 4, 4)"
      ]
     },
     "execution_count": 4,
     "metadata": {},
     "output_type": "execute_result"
    }
   ],
   "source": [
    "two_paulis_matrices = jnp.array([jnp.kron(paulis[a], paulis[b]) for a, b in two_paulis_strs])\n",
    "two_paulis_matrices.shape"
   ]
  },
  {
   "cell_type": "markdown",
   "id": "106f8ebc",
   "metadata": {},
   "source": [
    "Remember we'll need to reshape them into tensor form for `qujax`"
   ]
  },
  {
   "cell_type": "code",
   "execution_count": 5,
   "id": "cf8b9822",
   "metadata": {},
   "outputs": [
    {
     "data": {
      "text/plain": [
       "(16, 2, 2, 2, 2)"
      ]
     },
     "execution_count": 5,
     "metadata": {},
     "output_type": "execute_result"
    }
   ],
   "source": [
    "two_paulis_tensors = jnp.array([mat.reshape((2,) * 4) for mat in two_paulis_matrices])\n",
    "two_paulis_tensors.shape"
   ]
  },
  {
   "cell_type": "markdown",
   "id": "746db6d5",
   "metadata": {},
   "source": [
    "Now let's build a function that converts a two qubit unitary into one suffering from depolarising noise"
   ]
  },
  {
   "cell_type": "code",
   "execution_count": 6,
   "id": "0defcfb5",
   "metadata": {},
   "outputs": [],
   "source": [
    "def depolarise_arr(arr):\n",
    "    return lambda p: jnp.sqrt(p) * arr"
   ]
  },
  {
   "cell_type": "code",
   "execution_count": 7,
   "id": "62a6858b",
   "metadata": {},
   "outputs": [],
   "source": [
    "def depolarise(unitary_tensor):\n",
    "    unitary_and_two_paulis_tensors = [unitary_tensor] + list(two_paulis_tensors)\n",
    "    return [depolarise_arr(arr) for arr in unitary_and_two_paulis_tensors]"
   ]
  },
  {
   "cell_type": "markdown",
   "id": "be1d5f6d",
   "metadata": {},
   "source": [
    "This generates a list of functions. Each function takes as input a single probability $p_i$ and outputs one of the $4^2 + 1 = 17$ Kraus operators in ([1](#mjx-eqn-dnc)) scaled by $\\sqrt{p_i}$.\n",
    "\n",
    "This function can then be accepted by `qujax`'s densitytensor simulator."
   ]
  },
  {
   "cell_type": "markdown",
   "id": "f8ba8124",
   "metadata": {},
   "source": [
    "# Circuit!\n",
    "\n",
    "Now let's define a circuit for our experiments. The circuit will then be used to generate noisy measurements based on some true underlying probability vector $p$ which we will look to recover."
   ]
  },
  {
   "cell_type": "code",
   "execution_count": 8,
   "id": "f0eae6b5",
   "metadata": {},
   "outputs": [],
   "source": [
    "noiseless_gate_seq = ['H', 'CX', 'CX', 'CX']\n",
    "noiseless_qubit_seq = [[0], [0, 1], [1, 2], [2, 3]]\n",
    "noiseless_param_ind_seq = [None] * len(noiseless_qubit_seq)"
   ]
  },
  {
   "cell_type": "code",
   "execution_count": 9,
   "id": "9ceac728",
   "metadata": {},
   "outputs": [
    {
     "name": "stdout",
     "output_type": "stream",
     "text": [
      "q0: -----H-------◯-------------------\n",
      "                 |                   \n",
      "q1: -------------CX------◯-----------\n",
      "                         |           \n",
      "q2: ---------------------CX------◯---\n",
      "                                 |   \n",
      "q3: -----------------------------CX--\n"
     ]
    }
   ],
   "source": [
    "qujax.print_circuit(noiseless_gate_seq, noiseless_qubit_seq, noiseless_param_ind_seq);"
   ]
  },
  {
   "cell_type": "markdown",
   "id": "2b23d0bb",
   "metadata": {},
   "source": [
    "Now let's apply the depolarising noise channel to our two qubit gates"
   ]
  },
  {
   "cell_type": "code",
   "execution_count": 10,
   "id": "750a9589",
   "metadata": {},
   "outputs": [],
   "source": [
    "noisy_gate_seq = [depolarise(getattr(qujax.gates, noiseless_gate_seq[i])) if len(noiseless_qubit_seq[i]) == 2\n",
    "                  else noiseless_gate_seq[i]\n",
    "                  for i in range(len(noiseless_gate_seq))]\n",
    "\n",
    "noisy_qubit_seq = noiseless_qubit_seq.copy()\n",
    "\n",
    "p_inds = [[i] for i in range(len(two_paulis_tensors) + 1)]\n",
    "\n",
    "noisy_param_ind_seq = [p_inds if len(noiseless_qubit_seq[i]) == 2\n",
    "                       else None\n",
    "                       for i in range(len(noiseless_gate_seq))]"
   ]
  },
  {
   "cell_type": "code",
   "execution_count": 11,
   "id": "e3a4809b",
   "metadata": {},
   "outputs": [
    {
     "name": "stdout",
     "output_type": "stream",
     "text": [
      "q0: -----H-------◯-------------------\n",
      "                 |                   \n",
      "q1: -----------Kr[.]-----◯-----------\n",
      "                         |           \n",
      "q2: -------------------Kr[.]-----◯---\n",
      "                                 |   \n",
      "q3: ---------------------------Kr[.]-\n"
     ]
    }
   ],
   "source": [
    "qujax.print_circuit(noisy_gate_seq, noisy_qubit_seq, noisy_param_ind_seq);"
   ]
  },
  {
   "cell_type": "markdown",
   "id": "80f3272d",
   "metadata": {},
   "source": [
    "That looks right, now the CX gates have been replaced with Kraus operators parameterised by the $p$ vector.\n",
    "\n",
    "`qujax`'s densitytensor simulator can now convert the circuit representation and an inputted $p$ vector into a densitytensor - from which we can extract measurement probabilities."
   ]
  },
  {
   "cell_type": "code",
   "execution_count": 12,
   "id": "69865590",
   "metadata": {},
   "outputs": [],
   "source": [
    "pvec_to_densitytensor = qujax.get_params_to_densitytensor_func(noisy_gate_seq, noisy_qubit_seq, noisy_param_ind_seq)"
   ]
  },
  {
   "cell_type": "code",
   "execution_count": 13,
   "id": "9c061f0c",
   "metadata": {},
   "outputs": [],
   "source": [
    "def pvec_to_measure_probs(pvec):\n",
    "    dt = pvec_to_densitytensor(pvec)\n",
    "    nqubits = dt.ndim // 2\n",
    "    dm = dt.reshape(2 ** nqubits, 2 ** nqubits)\n",
    "    return jnp.diag(dm).real"
   ]
  },
  {
   "cell_type": "markdown",
   "id": "6308177c",
   "metadata": {},
   "source": [
    "# Simulation\n",
    "\n",
    "Now let's fix some true underlying values of the probability vector $p$ which we will look to recover statistically, we'll do this by simply sampling uniformly on the simplex."
   ]
  },
  {
   "cell_type": "code",
   "execution_count": 14,
   "id": "ddf3a678",
   "metadata": {},
   "outputs": [],
   "source": [
    "kraus_strs = ['U'] + two_paulis_strs"
   ]
  },
  {
   "cell_type": "code",
   "execution_count": 15,
   "id": "cd098b3e",
   "metadata": {},
   "outputs": [
    {
     "data": {
      "image/png": "[encoded data removed]",
      "text/plain": [
       "<Figure size 640x480 with 1 Axes>"
      ]
     },
     "metadata": {},
     "output_type": "display_data"
    }
   ],
   "source": [
    "true_pvec = random.dirichlet(random.PRNGKey(0), jnp.ones(len(two_paulis_tensors) + 1))\n",
    "\n",
    "plt.bar(kraus_strs, true_pvec, color='purple')\n",
    "plt.ylabel('p');"
   ]
  },
  {
   "cell_type": "markdown",
   "id": "d4aace96",
   "metadata": {},
   "source": [
    "Now let's sample some measurements from the true $p$"
   ]
  },
  {
   "cell_type": "code",
   "execution_count": 16,
   "id": "b0c50ea4",
   "metadata": {},
   "outputs": [
    {
     "data": {
      "image/png": "[encoded data removed]",
      "text/plain": [
       "<Figure size 640x480 with 1 Axes>"
      ]
     },
     "metadata": {},
     "output_type": "display_data"
    }
   ],
   "source": [
    "n_measurements = 1000\n",
    "\n",
    "noiseless_measure_probs = pvec_to_measure_probs(jnp.zeros(17).at[0].set(1))\n",
    "noisy_measure_probs = pvec_to_measure_probs(true_pvec)\n",
    "measurements = random.choice(random.PRNGKey(1), len(noiseless_measure_probs), shape=(n_measurements,), p=noisy_measure_probs)\n",
    "\n",
    "_x = jnp.arange(noiseless_measure_probs.size)\n",
    "bar_width = 0.2\n",
    "plt.bar(_x - 0.2, noiseless_measure_probs, bar_width, label='Noiseless', color='grey')\n",
    "plt.bar(_x, noisy_measure_probs, bar_width, label='Noisy', color='green')\n",
    "plt.bar(_x + 0.2, jnp.bincount(measurements) / n_measurements, bar_width, label='Sampled', color='orange')\n",
    "plt.xticks(_x, [f\"{a:04b}\" for a in _x], rotation=90)\n",
    "plt.legend();"
   ]
  },
  {
   "cell_type": "markdown",
   "id": "595acc71",
   "metadata": {},
   "source": [
    "# Inference - maximum likelihood\n",
    "\n",
    "Now we'll forget that we know the true underlying $p$ and use statistical inference techniques to infer it.\n",
    "\n",
    "The likelihood function is $P(\\{m_j\\}_{j=1}^N \\mid p) = \\prod_{j=1}^N P(m_j \\mid p)$. Maximising the likelihood function in $p$ will give us the most probable value of $p$ that generated the measurements $\\{m_j\\}_{j=1}^N$.\n",
    "\n",
    "To avoid numerical underflow we can maximise the log-likelihood rather than the likelihood itself."
   ]
  },
  {
   "cell_type": "code",
   "execution_count": 17,
   "id": "668ab4c3",
   "metadata": {},
   "outputs": [],
   "source": [
    "def log_likelihood(p):\n",
    "    measure_probs = pvec_to_measure_probs(p)\n",
    "    return jnp.log(measure_probs)[measurements].sum()"
   ]
  },
  {
   "cell_type": "markdown",
   "id": "aca239fa",
   "metadata": {},
   "source": [
    "In order to ensure the simplex constraints $0 \\leq p_i \\leq 1, \\sum_{i=1}^{17} p_i = 1$ we can use the [stick-breaking transformation](https://mc-stan.org/docs/reference-manual/simplex-transform.html)"
   ]
  },
  {
   "cell_type": "code",
   "execution_count": 18,
   "id": "90b69dcb",
   "metadata": {},
   "outputs": [],
   "source": [
    "def logit(u):\n",
    "    return jnp.log(u) - jnp.log(1 - u)\n",
    "\n",
    "def inverse_logit(v):\n",
    "    return 1 / (1 + jnp.exp(-v))\n",
    "\n",
    "def constrain_simplex(y):\n",
    "    k = y.shape[-1] + 1\n",
    "    z = inverse_logit(y - jnp.log(k - jnp.arange(1, k)))\n",
    "    z1m_cumprod = jnp.append(1., (1 - z[:-1]).cumprod())\n",
    "    return z * z1m_cumprod\n",
    "\n",
    "def unconstrain_simplex(x):\n",
    "    k = x.shape[-1] + 1\n",
    "    z = x / (1 - jnp.append(0, x[:-1].cumsum()))\n",
    "    return logit(z) + jnp.log(k - jnp.arange(1, k))"
   ]
  },
  {
   "cell_type": "code",
   "execution_count": 19,
   "id": "07c3db69",
   "metadata": {},
   "outputs": [],
   "source": [
    "def transformed_log_likelihood(z):\n",
    "    pvec_trunc = constrain_simplex(z)\n",
    "    pvec = jnp.append(pvec_trunc, 1-pvec_trunc.sum())\n",
    "    return log_likelihood(pvec)"
   ]
  },
  {
   "cell_type": "code",
   "execution_count": 20,
   "id": "b113162a",
   "metadata": {},
   "outputs": [],
   "source": [
    "transformed_log_likelihood_and_grad = jit(value_and_grad(transformed_log_likelihood))"
   ]
  },
  {
   "cell_type": "markdown",
   "id": "c211d112",
   "metadata": {},
   "source": [
    "JAX's automatic differentiation allows us to run gradient ascent seemlessly in order to fit a maximum likelihood estimator of $p$ that maximises $\\log P(\\{m_j\\}_{j=1}^N \\mid p)$"
   ]
  },
  {
   "cell_type": "code",
   "execution_count": 21,
   "id": "f2967df4",
   "metadata": {},
   "outputs": [
    {
     "name": "stdout",
     "output_type": "stream",
     "text": [
      "Step: 1000 \t Log-likelihood -2690.1929\r"
     ]
    }
   ],
   "source": [
    "stepsize = 1e-3\n",
    "n_steps = 1000\n",
    "\n",
    "tp_train = jnp.ones(16) / 17\n",
    "logliks_train = jnp.zeros(n_steps)\n",
    "for i in range(n_steps):\n",
    "    loglik, tloglik_grad = transformed_log_likelihood_and_grad(tp_train)\n",
    "    logliks_train = logliks_train.at[i].set(loglik)\n",
    "    print('Step:', i+1, '\\t Log-likelihood', loglik, end='\\r')\n",
    "    \n",
    "    tp_train += stepsize * tloglik_grad"
   ]
  },
  {
   "cell_type": "code",
   "execution_count": 22,
   "id": "aba438d0",
   "metadata": {},
   "outputs": [
    {
     "data": {
      "image/png": "[encoded data removed]",
      "text/plain": [
       "<Figure size 640x480 with 1 Axes>"
      ]
     },
     "metadata": {},
     "output_type": "display_data"
    }
   ],
   "source": [
    "plt.plot(logliks_train)\n",
    "plt.xlabel('Iteration')\n",
    "plt.ylabel('Log-likelihood');"
   ]
  },
  {
   "cell_type": "markdown",
   "id": "fc0ffe6d",
   "metadata": {},
   "source": [
    "Looks like it trained well!\n",
    "\n",
    "Let's examine the fitted maximum likelihood estimator of $p$"
   ]
  },
  {
   "cell_type": "code",
   "execution_count": 23,
   "id": "f2d81982",
   "metadata": {},
   "outputs": [],
   "source": [
    "mle_pvec = constrain_simplex(tp_train)\n",
    "mle_pvec = jnp.append(mle_pvec, 1-mle_pvec.sum())"
   ]
  },
  {
   "cell_type": "code",
   "execution_count": 24,
   "id": "4da4f3b4",
   "metadata": {},
   "outputs": [
    {
     "data": {
      "image/png": "[encoded data removed]",
      "text/plain": [
       "<Figure size 640x480 with 1 Axes>"
      ]
     },
     "metadata": {},
     "output_type": "display_data"
    }
   ],
   "source": [
    "_x2 = jnp.arange(len(kraus_strs))\n",
    "bar_width2 = 0.4\n",
    "plt.bar(_x2 - 0.2, true_pvec, bar_width2, label='True', color='purple')\n",
    "plt.bar(_x2 + 0.2, mle_pvec, bar_width2, label='Fitted MLE', color='lightblue')\n",
    "plt.xticks(_x2, kraus_strs)\n",
    "plt.ylabel('p')\n",
    "plt.legend();"
   ]
  },
  {
   "cell_type": "markdown",
   "id": "3082a524",
   "metadata": {},
   "source": [
    "Ok it appears somewhat similar to the true underlying value of $p$ although there are some clear differences.\n",
    "\n",
    "Let's also check out the measurement probabilities of the fitted MLE"
   ]
  },
  {
   "cell_type": "code",
   "execution_count": 25,
   "id": "bdbcac83",
   "metadata": {},
   "outputs": [
    {
     "data": {
      "image/png": "[encoded data removed]",
      "text/plain": [
       "<Figure size 640x480 with 1 Axes>"
      ]
     },
     "metadata": {},
     "output_type": "display_data"
    }
   ],
   "source": [
    "mle_measure_probs = pvec_to_measure_probs(mle_pvec)\n",
    "\n",
    "plt.bar(_x - 0.2, noisy_measure_probs, bar_width, label='Noisy', color='green')\n",
    "plt.bar(_x, jnp.bincount(measurements) / n_measurements, bar_width, label='Sampled', color='orange')\n",
    "plt.bar(_x + 0.2, mle_measure_probs, bar_width, label='MLE', color='steelblue')\n",
    "plt.xticks(_x, [f\"{a:04b}\" for a in _x], rotation=90)\n",
    "plt.ylabel(r'$P(m \\mid p)$')\n",
    "plt.legend();"
   ]
  },
  {
   "cell_type": "markdown",
   "id": "0dfbdddd",
   "metadata": {},
   "source": [
    "Very similar to both the measurement probabilities of the true $p$ as well as the measurements. This indicates that the true $p$ is not fully identifiable from our combination of circuit and measurements.\n",
    "\n",
    "A Bayesian approach could be applied to fully quantify this uncertainty via the posterior distribution $P(p \\mid \\{m_j\\}_{j=1}^N)$.\n",
    "\n",
    "We could also consider more sophisticated circuits in order to generate measurements that are more informative for $p$."
   ]
  }
 ],
 "metadata": {
  "kernelspec": {
   "display_name": "Python 3",
   "language": "python",
   "name": "python3"
  },
  "language_info": {
   "codemirror_mode": {
    "name": "ipython",
    "version": 3
   },
   "file_extension": ".py",
   "mimetype": "text/x-python",
   "name": "python",
   "nbconvert_exporter": "python",
   "pygments_lexer": "ipython3",
   "version": "3.11.1"
  },
  "vscode": {
   "interpreter": {
    "hash": "aee8b7b246df8f9039afb4144a1f6fd8d2ca17a180786b69acc140d282b71a49"
   }
  }
 },
 "nbformat": 4,
 "nbformat_minor": 5
}
